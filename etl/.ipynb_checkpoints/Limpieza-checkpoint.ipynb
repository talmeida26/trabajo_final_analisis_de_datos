{
 "cells": [
  {
   "cell_type": "code",
   "execution_count": 22,
   "id": "d18b5cc3-e15a-4c36-ab58-0638822ffae1",
   "metadata": {},
   "outputs": [
    {
     "name": "stdout",
     "output_type": "stream",
     "text": [
      "Valores únicos en ZONA: ['URBANA' 'RURAL' 'URBANA,RURAL' 'RURAL,URBANA' 'NAN']\n",
      "Valores únicos en CALENDARIO: ['A' 'B' 'OTRO']\n"
     ]
    }
   ],
   "source": [
    "import pandas as pd\n",
    "\n",
    "# Cargar el dataset\n",
    "df = pd.read_csv(\"../data/ESTABLECIMIENTOS_EDUCATIVOS-COLOMBIA_20250605.csv\")\n",
    "\n",
    "# 1. Eliminar columnas completamente vacías\n",
    "df.dropna(axis=1, how='all', inplace=True)\n",
    "\n",
    "# 2. Eliminar filas duplicadas\n",
    "df.drop_duplicates(inplace=True)\n",
    "\n",
    "# 3. Limpiar columnas de texto: quitar espacios y poner en mayúsculas\n",
    "columnas_objeto = df.select_dtypes(include='object').columns\n",
    "for col in columnas_objeto:\n",
    "    df[col] = df[col].astype(str).str.strip().str.upper()\n",
    "\n",
    "# 4. Rellenar o corregir valores nulos en columnas clave\n",
    "df['zona'] = df['zona'].fillna('SIN DATO')\n",
    "df['nombre_Rector'] = df['nombre_Rector'].fillna('NO REGISTRA')\n",
    "df['telefono'] = df['telefono'].fillna('NO TIENE')\n",
    "df['correo_Electronico'] = df['correo_Electronico'].replace({'-': None, 'nan': None})\n",
    "df['correo_Electronico'] = df['correo_Electronico'].fillna('SIN CORREO')\n",
    "\n",
    "# 5. Convertir códigos a texto para conservar ceros a la izquierda\n",
    "df['codigoestablecimiento'] = df['codigoestablecimiento'].astype(str)\n",
    "df['codigodepartamento'] = df['codigodepartamento'].astype(str)\n",
    "df['codigomunicipio'] = df['codigomunicipio'].astype(str)\n",
    "\n",
    "# 6. Verificación\n",
    "print(\"Valores únicos en ZONA:\", df['zona'].unique())\n",
    "print(\"Valores únicos en CALENDARIO:\", df['calendario'].unique())\n",
    "\n",
    "# 7. Guardar resultado\n",
    "df_clean = df\n"
   ]
  }
 ],
 "metadata": {
  "kernelspec": {
   "display_name": "Python [conda env:base] *",
   "language": "python",
   "name": "conda-base-py"
  },
  "language_info": {
   "codemirror_mode": {
    "name": "ipython",
    "version": 3
   },
   "file_extension": ".py",
   "mimetype": "text/x-python",
   "name": "python",
   "nbconvert_exporter": "python",
   "pygments_lexer": "ipython3",
   "version": "3.12.7"
  }
 },
 "nbformat": 4,
 "nbformat_minor": 5
}
