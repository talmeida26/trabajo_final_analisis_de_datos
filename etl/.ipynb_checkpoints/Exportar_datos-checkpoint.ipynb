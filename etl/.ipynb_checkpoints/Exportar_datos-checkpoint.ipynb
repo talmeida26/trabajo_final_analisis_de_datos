{
 "cells": [
  {
   "cell_type": "code",
   "execution_count": 5,
   "id": "ff30a3da-275e-4f2e-a65c-4a9f84689433",
   "metadata": {},
   "outputs": [
    {
     "name": "stdout",
     "output_type": "stream",
     "text": [
      "Valores faltantes por columna:\n",
      "zona                             2\n",
      "telefono                      2232\n",
      "nombre_Rector                   20\n",
      "etnias                       21616\n",
      "sector                       22530\n",
      "genero                       22530\n",
      "niveles                        217\n",
      "jornadas                       190\n",
      "caracter                     22530\n",
      "especialidad                 10676\n",
      "grados                         217\n",
      "modelos_Educativos             276\n",
      "capacidades_Excepcionales    22152\n",
      "discapacidades               18772\n",
      "idiomas                      19344\n",
      "estado                       22530\n",
      "resguardo                       25\n",
      "internado                    20979\n",
      "estrato_Socio_Economico      17773\n",
      "correo_Electronico            5482\n",
      "dtype: int64\n",
      " Archivo exportado correctamente a: data/limpio/establecimientos_educativos_limpio.csv\n"
     ]
    }
   ],
   "source": [
    "import pandas as pd\n",
    "import os\n",
    "\n",
    "# Asegurarse de que el directorio exista\n",
    "os.makedirs(\"../data/limpio\", exist_ok=True)\n",
    "\n",
    "# Cargar el dataset limpio del script anterior\n",
    "df = pd.read_csv(\"../data/original/ESTABLECIMIENTOS_EDUCATIVOS-COLOMBIA_20250605.csv\")\n",
    "\n",
    "# REPLICAR SOLO LA CONVERSIÓN NECESARIA\n",
    "df['codigoestablecimiento'] = df['codigoestablecimiento'].astype(str)\n",
    "df['codigodepartamento'] = df['codigodepartamento'].astype(str)\n",
    "df['codigomunicipio'] = df['codigomunicipio'].astype(str)\n",
    "\n",
    "# Validación de datos faltantes por columna\n",
    "faltantes = df.isnull().sum()\n",
    "print(\"Valores faltantes por columna:\")\n",
    "print(faltantes[faltantes > 0])\n",
    "\n",
    "# Guardar archivo limpio\n",
    "output_path = \"data/limpio/establecimientos_educativos_limpio.csv\"\n",
    "df.to_csv(output_path, index=False, encoding='utf-8')\n",
    "print(f\" Archivo exportado correctamente a: {output_path}\")"
   ]
  },
  {
   "cell_type": "code",
   "execution_count": null,
   "id": "002e3275-7510-4acb-8553-164c79cab1ec",
   "metadata": {},
   "outputs": [],
   "source": []
  }
 ],
 "metadata": {
  "kernelspec": {
   "display_name": "Python [conda env:base] *",
   "language": "python",
   "name": "conda-base-py"
  },
  "language_info": {
   "codemirror_mode": {
    "name": "ipython",
    "version": 3
   },
   "file_extension": ".py",
   "mimetype": "text/x-python",
   "name": "python",
   "nbconvert_exporter": "python",
   "pygments_lexer": "ipython3",
   "version": "3.12.7"
  }
 },
 "nbformat": 4,
 "nbformat_minor": 5
}
